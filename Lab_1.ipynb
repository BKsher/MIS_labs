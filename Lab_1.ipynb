{
 "cells": [
  {
   "cell_type": "markdown",
   "id": "88f650d6",
   "metadata": {},
   "source": [
    "# Гайана (Гаяна)\n",
    "___\n",
    "## Площа\n",
    "- **Всього:** *214 969 км² (84 в світі)*\n",
    "- **Внутр. води:** *8.4%*\n",
    "___\n",
    "### Населення\n",
    "- **Перепис населення 2021:** *808,726 (2022)*\n",
    "- **Густота населення:** *3.75/км²*\n",
    "___\n",
    "### Державний устрій\n",
    "- **Форма правління:** Парламентсько-президентська республіка\n",
    "- **Президент:** [Ірфаан Алі](https://uk.wikipedia.org/wiki/%D0%86%D1%80%D1%84%D0%B0%D0%B0%D0%BD_%D0%90%D0%BB%D1%96)"
   ]
  },
  {
   "cell_type": "markdown",
   "id": "9c1632f2",
   "metadata": {},
   "source": [
    "# Прапор Гайани"
   ]
  },
  {
   "cell_type": "code",
   "execution_count": 7,
   "id": "200ae4e2",
   "metadata": {},
   "outputs": [
    {
     "data": {
      "text/html": [
       "<svg viewBox=\"0 0 40 24\">\n",
       "    <rect width=\"40\" height=\"24\" fill=\"#009e49\"/>\n",
       "    <polygon points=\"0,24 41,12 0,0\" fill=\"#fff\"/>\n",
       "    <polygon points=\"0,23 38,12 0,1\" fill=\"#fdd116\"/>\n",
       "    <polygon points=\"0,24 20,12 0,0\" fill=\"#000000\"/>\n",
       "    <polygon points=\"0,22.5 17.5,12 0,1.5\" fill=\"#ce1127\"/>\n",
       "</svg>\n"
      ],
      "text/plain": [
       "<IPython.core.display.HTML object>"
      ]
     },
     "metadata": {},
     "output_type": "display_data"
    }
   ],
   "source": [
    "%%HTML\n",
    "<svg viewBox=\"0 0 40 24\">\n",
    "    <rect width=\"40\" height=\"24\" fill=\"#009e49\"/>\n",
    "    <polygon points=\"0,24 41,12 0,0\" fill=\"#fff\"/>\n",
    "    <polygon points=\"0,23 38,12 0,1\" fill=\"#fdd116\"/>\n",
    "    <polygon points=\"0,24 20,12 0,0\" fill=\"#000000\"/>\n",
    "    <polygon points=\"0,22.5 17.5,12 0,1.5\" fill=\"#ce1127\"/>\n",
    "</svg>"
   ]
  },
  {
   "cell_type": "markdown",
   "id": "46d1767e-57da-4f45-af3c-f9cbb407e668",
   "metadata": {},
   "source": [
    "# Видатні особистості Гайани\n",
    "___\n",
    "| Ім'я | Діяльність | Зображення |\n",
    "|:--------:|:----------------------------------------------------------------------------------------------------|:----------:|\n",
    "| [**Чедді Джаган**](https://en.wikipedia.org/wiki/Cheddi_Jagan)| видатний політик, який був прем'єр-міністром Британської Гвіани до її незалежності і пізніше став першим прем'єр-міністром незалежної Гайани.|<img src=\"https://upload.wikimedia.org/wikipedia/commons/9/95/President_Cheddi_Jagan.png\" width=\"100px\">|\n",
    "| [**Шивнарін Чандерпол**](https://uk.wikipedia.org/wiki/%D0%94%D0%B6%D0%BE%D0%BD_%D0%90%D0%B3%D0%B0%D1%80%D0%B4)|відомий крикетист, який знаний своїми технічними навичками і довгими іннінгсами у міжнародних матчах.|<img src=\"https://i.pinimg.com/736x/d4/9f/85/d49f85f13da577e5d6d0f8c0e51fd101.jpg\" width=\"100px\">|\n",
    "| [**Шерілл Роландс**](https://en.wikipedia.org/wiki/Jan_Ernst_Matzeliger)|видатна правниця і дипломат, яка обіймала посаду віце-президента Міжнародного суду ООН, була першою жінкою, яка виконувала обов'язки голови цього суду.|<img src=\"https://media.gettyimages.com/id/825324324/photo/portrait-of-young-guyanese-woman.jpg?s=612x612&w=gi&k=20&c=6lSG33t0RrIhlvXeS3r3YmbEynsf3ZY2aZlj9FkWIqw=\" width=\"100px\">|"
   ]
  },
  {
   "cell_type": "markdown",
   "id": "6af9cc1e-f83a-4d66-8217-bdfadf73dddb",
   "metadata": {
    "jp-MarkdownHeadingCollapsed": true
   },
   "source": [
    "# Пам'ятки Гайани\n",
    "___\n",
    "<div>\n",
    "    <ul>\n",
    "        <li>\n",
    "            <div>\n",
    "                <h3>Національний парк Рупунуні</h3>\n",
    "                <div style=\"margin:7px 0; padding: 5px; border: solid green; border-radius:7px\">\n",
    "                    <p>велика природна територія, яка славиться своєю різноманітністю дикої природи та екосистемами, включаючи савани, мокроти і тропічні ліси.</p>\n",
    "                </div>\n",
    "                <img src=\"https://media-cdn.tripadvisor.com/media/photo-s/0c/ec/b2/03/baby-rhino-with-mother.jpg\" style=\"width:80%\">\n",
    "            </div>\n",
    "        </li>\n",
    "        <li>\n",
    "            <div>\n",
    "                <h3>Форт Зеландія</h3>\n",
    "                <div style=\"margin:7px 0; padding: 5px; border: solid green; border-radius:7px\">\n",
    "                    <p>історична фортеця, побудована голландцями у XVII столітті для захисту від піратів і англійців, що розташована на острові Ессекібо.\n",
    "</p>\n",
    "                </div>\n",
    "                <img src=\"https://www.twtainan.net/content/images/attractions/12451/1024x768_305634201425632891250.jpg\" style=\"width:80%\">\n",
    "            </div>\n",
    "        </li>\n",
    "        <li>\n",
    "            <div>\n",
    "                <h3>Солом'яна хижа Умана-Яна</h3>\n",
    "                <div style=\"margin:7px 0; padding: 5px; border: solid green; border-radius:7px\">\n",
    "                    <p>Умана-Яна - солом'яна хатина з конічним дахом, яка була побудована в 1972 році в архітектурному стилі індіанців. Розташована в місті Джорджтаун, на вулиці Water Street. Умана піднімається на 17 метрів, її дах зроблений з соломи і пальмового листя, а також ліан місцевої рослини Тур. У будівництві будівлі не використано жодного цвяха. З мови племені Вай-Вай назва хатини перекладається як: \"Місце зустрічі людей\".</p>\n",
    "                </div>\n",
    "                <img src=\"https://upload.wikimedia.org/wikipedia/commons/thumb/7/74/Umana_Yana_by_Khirsah1.jpg/1200px-Umana_Yana_by_Khirsah1.jpg\" style=\"width:80%\">\n",
    "            </div>\n",
    "        </li>\n",
    "        <li>\n",
    "            <div>\n",
    "                <h3>Водоспад Каєтур</h3>\n",
    "                <div style=\"margin:7px 0; padding: 5px; border: solid green; border-radius:7px\">\n",
    "                    <p>один із найпотужніших водоспадів у світі, розташований у національному парку Кайетур, цей водоспад має висоту понад 226 метрів.</p>\n",
    "                </div>\n",
    "                <img src=\"https://vsviti.com.ua/wp-content/uploads/2013/04/vodopad-Kayetur-05.jpg\"style=\"width:80%\">\n",
    "            </div>\n",
    "        </li>\n",
    "        <li>\n",
    "            <div>\n",
    "                <h3>Пляж Шелл</h3>\n",
    "                <div style=\"margin:7px 0; padding: 5px; border: solid green; border-radius:7px\">\n",
    "                    <p>Морське узбережжя Гайани значною мірою заболочене і вкрите мангровими заростями, тому пляжних зон тут небагато. Шелл-Біч - один з небагатьох пляжів в Гайані. Він простягнувся приблизно на 140 кілометрів. Це місце гніздування чотирьох з восьми видів морських черепах: зелених, Бісса (справжня каретта), шкірястих і оливкових (Рідлі). Якщо раніше черепах вбивали заради їхнього м'яса та яєць, то зараз вони є частиною екологічної неурядової програми.</p>\n",
    "                </div>\n",
    "                <img src=\"https://dynamic-media-cdn.tripadvisor.com/media/photo-o/18/0a/80/55/20190621-150834-largejpg.jpg?w=1200&h=-1&s=1\" style=\"width:80%\">\n",
    "            </div>\n",
    "        </li>\n",
    "    </ul>\n",
    "</div>"
   ]
  },
  {
   "cell_type": "markdown",
   "id": "b991a7ee",
   "metadata": {},
   "source": [
    "# Реалізація алгоритму"
   ]
  },
  {
   "cell_type": "code",
   "execution_count": 5,
   "id": "b3077f5b",
   "metadata": {},
   "outputs": [],
   "source": [
    "def task_3():\n",
    "    input_list = input().split(\" \")\n",
    "    try:\n",
    "        elements = []\n",
    "        for i in range(len(input_list)):\n",
    "            elements.append(int(input_list[i]))\n",
    "        elements.sort()\n",
    "        if len(elements) % 2 == 0:\n",
    "            return f\"({elements[int(len(elements)/2) - 1]}, {elements[int(len(elements)/2)]}) - середина відсортованого списку\"\n",
    "        else:\n",
    "            return f\"{elements[int(len(elements)/2)]} - середина відсортованого списку\"\n",
    "        \n",
    "    except ValueError:\n",
    "        return \"У списку присутня змінна не цілочисельного типу.\""
   ]
  },
  {
   "cell_type": "code",
   "execution_count": 6,
   "id": "d7863dce",
   "metadata": {},
   "outputs": [
    {
     "name": "stdin",
     "output_type": "stream",
     "text": [
      " 7 3 1 7 4 2 8 2\n"
     ]
    },
    {
     "data": {
      "text/plain": [
       "'(3, 4) - середина відсортованого списку'"
      ]
     },
     "execution_count": 6,
     "metadata": {},
     "output_type": "execute_result"
    }
   ],
   "source": [
    "task_3()"
   ]
  },
  {
   "cell_type": "code",
   "execution_count": 45,
   "id": "dfe47bb8",
   "metadata": {},
   "outputs": [
    {
     "name": "stdout",
     "output_type": "stream",
     "text": [
      "6 12 5 213 str 64\n"
     ]
    },
    {
     "data": {
      "text/plain": [
       "'Помилка. У списку присутня змінна не цілочисельного типу.'"
      ]
     },
     "execution_count": 45,
     "metadata": {},
     "output_type": "execute_result"
    }
   ],
   "source": [
    "task_3()"
   ]
  },
  {
   "cell_type": "code",
   "execution_count": null,
   "id": "fab54e57",
   "metadata": {},
   "outputs": [],
   "source": []
  }
 ],
 "metadata": {
  "kernelspec": {
   "display_name": "Python 3 (ipykernel)",
   "language": "python",
   "name": "python3"
  },
  "language_info": {
   "codemirror_mode": {
    "name": "ipython",
    "version": 3
   },
   "file_extension": ".py",
   "mimetype": "text/x-python",
   "name": "python",
   "nbconvert_exporter": "python",
   "pygments_lexer": "ipython3",
   "version": "3.9.1"
  }
 },
 "nbformat": 4,
 "nbformat_minor": 5
}
