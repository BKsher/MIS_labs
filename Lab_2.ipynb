{
 "cells": [
  {
   "cell_type": "markdown",
   "id": "95d91f07",
   "metadata": {},
   "source": [
    "## Завдання 1\n",
    "### Виконайте комплекс вправ. Виконайте всі завдання 2 способами, використовуючи:\n",
    "* універсальні функції бібліотеки NumPy\n",
    "* ітераційні конструкції (цикли, включення списків тощо)"
   ]
  },
  {
   "cell_type": "code",
   "execution_count": 54,
   "id": "f86a135e",
   "metadata": {},
   "outputs": [],
   "source": [
    "import math\n",
    "import random\n",
    "import numpy as np"
   ]
  },
  {
   "cell_type": "markdown",
   "id": "2854b5a3",
   "metadata": {},
   "source": [
    "#### №1. Введено число *n*. Вивести масив розміром *n×n*, у якому по діагоналі розташовані числа від 1 до *n*, а всі інші числа дорівнюють 0."
   ]
  },
  {
   "cell_type": "markdown",
   "id": "118a70de",
   "metadata": {},
   "source": [
    "*Версія Numpy:*"
   ]
  },
  {
   "cell_type": "code",
   "execution_count": 55,
   "id": "f58ac2e5",
   "metadata": {},
   "outputs": [
    {
     "name": "stdout",
     "output_type": "stream",
     "text": [
      "6.24 µs ± 499 ns per loop (mean ± std. dev. of 10 runs, 100 loops each)\n"
     ]
    }
   ],
   "source": [
    "%%timeit -n 100 -r 10\n",
    "\n",
    "def task_1(n):\n",
    "    matrix = np.zeros((n, n))\n",
    "    np.fill_diagonal(matrix, np.arange(1, n+1))\n",
    "    return matrix\n",
    "    \n",
    "    \n",
    "task_1(100)"
   ]
  },
  {
   "cell_type": "markdown",
   "id": "65d5db25",
   "metadata": {},
   "source": [
    "*Ітеративна версія:*"
   ]
  },
  {
   "cell_type": "code",
   "execution_count": 56,
   "id": "b56aa6c0",
   "metadata": {},
   "outputs": [
    {
     "name": "stdout",
     "output_type": "stream",
     "text": [
      "645 µs ± 35.9 µs per loop (mean ± std. dev. of 10 runs, 100 loops each)\n"
     ]
    }
   ],
   "source": [
    "%%timeit -n 100 -r 10\n",
    "\n",
    "def task_1(n):\n",
    "    matrix = []\n",
    "    for i in range(n):\n",
    "        list = []\n",
    "        for j in range(n):\n",
    "            list.append(i + 1 if i == j else 0)\n",
    "        matrix.append(list)\n",
    "    return matrix\n",
    "    \n",
    "    \n",
    "task_1(100)"
   ]
  },
  {
   "cell_type": "markdown",
   "id": "89dbe6a6",
   "metadata": {},
   "source": [
    "#### №3. Вам дано 4 числа *n*, *m*, *r*, *c*. Виведіть масив розміром *n×m*, у якому кожен рядок з номером *r* і кожен стовпець з номером *c* мають 0s, а всі інші елементи дорівнюють 1."
   ]
  },
  {
   "cell_type": "markdown",
   "id": "c03e2a3a",
   "metadata": {},
   "source": [
    "*Numpy version:*"
   ]
  },
  {
   "cell_type": "code",
   "execution_count": 57,
   "id": "7f7657e8",
   "metadata": {},
   "outputs": [
    {
     "name": "stdout",
     "output_type": "stream",
     "text": [
      "4.07 µs ± 122 ns per loop (mean ± std. dev. of 10 runs, 100 loops each)\n"
     ]
    }
   ],
   "source": [
    "%%timeit -n 100 -r 10\n",
    "\n",
    "def task_3(n, m, r, c):\n",
    "    matrix = np.ones((n, m), dtype=int)\n",
    "    matrix[::r, :] = 0\n",
    "    matrix[:, ::c] = 0\n",
    "    return matrix\n",
    "\n",
    "task_3(6, 7, 2, 3)"
   ]
  },
  {
   "cell_type": "markdown",
   "id": "996af81d",
   "metadata": {},
   "source": [
    "*Iterative version:*"
   ]
  },
  {
   "cell_type": "code",
   "execution_count": 58,
   "id": "70153a0e",
   "metadata": {},
   "outputs": [
    {
     "name": "stdout",
     "output_type": "stream",
     "text": [
      "5.71 µs ± 90.3 ns per loop (mean ± std. dev. of 10 runs, 100 loops each)\n"
     ]
    }
   ],
   "source": [
    "%%timeit -n 100 -r 10\n",
    "\n",
    "def task_3(n, m, r, c):\n",
    "    matrix = []\n",
    "    for i in range(n):\n",
    "        list_ = []\n",
    "        for j in range(m):\n",
    "            list_.append(0 if i % r == 0 or j % c == 0 else 1)\n",
    "        matrix.append(list_)\n",
    "    return matrix\n",
    "\n",
    "task_3(6, 7, 2, 3)"
   ]
  },
  {
   "cell_type": "markdown",
   "id": "d28a5478",
   "metadata": {},
   "source": [
    "#### №4. Замінити всі ненульові елементи в масиві на -1."
   ]
  },
  {
   "cell_type": "markdown",
   "id": "fa5ac743",
   "metadata": {},
   "source": [
    "*Версія Numpy:*"
   ]
  },
  {
   "cell_type": "code",
   "execution_count": 59,
   "id": "690878bc",
   "metadata": {},
   "outputs": [
    {
     "name": "stdout",
     "output_type": "stream",
     "text": [
      "7.36 µs ± 190 ns per loop (mean ± std. dev. of 10 runs, 100 loops each)\n"
     ]
    }
   ],
   "source": [
    "%%timeit -n 100 -r 10\n",
    "\n",
    "def task_6(input_array):\n",
    "    arr = np.array(input_array)\n",
    "    arr[arr != 0] = -1\n",
    "    return arr\n",
    "    \n",
    "task_6([-5, -10, 48, 12, 105, -5, 0, 48, 12, 105, -5, -10, 48, 12, 105, -5, -10, 48, 0, 105, -5, -10, 48, 12, 105, -5, -10, 48, 12, 105, -5, -10, 0, 12, 105, -5, -10, 48, 12, 105, 0, 0, 48, 12, 105, -5, -10, 48, 0, 105])"
   ]
  },
  {
   "cell_type": "markdown",
   "id": "681f943f",
   "metadata": {},
   "source": [
    "*Ітеративна версія:*"
   ]
  },
  {
   "cell_type": "code",
   "execution_count": 60,
   "id": "1d6f6f3d",
   "metadata": {},
   "outputs": [
    {
     "name": "stdout",
     "output_type": "stream",
     "text": [
      "2.38 µs ± 9.61 ns per loop (mean ± std. dev. of 10 runs, 100 loops each)\n"
     ]
    }
   ],
   "source": [
    "%%timeit -n 100 -r 10\n",
    "\n",
    "def task_6(input_array):\n",
    "    for i in range(len(input_array)):\n",
    "        if input_array[i] != 0:\n",
    "            input_array[i] = -1\n",
    "    return input_array\n",
    "    \n",
    "task_6([-5, -10, 48, 12, 105, -5, 0, 48, 12, 105, -5, -10, 48, 12, 105, -5, -10, 48, 0, 105, -5, -10, 48, 12, 105, -5, -10, 48, 12, 105, -5, -10, 0, 12, 105, -5, -10, 48, 12, 105, 0, 0, 48, 12, 105, -5, -10, 48, 0, 105])"
   ]
  },
  {
   "cell_type": "markdown",
   "id": "95996a41",
   "metadata": {},
   "source": [
    "#### №5. Замінити всі нульові елементи в масиві на -1."
   ]
  },
  {
   "cell_type": "markdown",
   "id": "cb67fe25",
   "metadata": {},
   "source": [
    "*Версія Numpy:*"
   ]
  },
  {
   "cell_type": "code",
   "execution_count": 61,
   "id": "dde9c10e",
   "metadata": {},
   "outputs": [
    {
     "name": "stdout",
     "output_type": "stream",
     "text": [
      "7.1 µs ± 101 ns per loop (mean ± std. dev. of 10 runs, 100 loops each)\n"
     ]
    }
   ],
   "source": [
    "%%timeit -n 100 -r 10\n",
    "\n",
    "def task_7(input_array):\n",
    "    arr = np.array(input_array)\n",
    "    arr[arr == 0] = -1\n",
    "    return arr\n",
    "    \n",
    "task_7([0, 0, 0, 0, 0, 0, 0, 0, 5, 0, 0, 0, 0, 0, 0, 0, 0, 5, 5, 0, 0, 0, 0, 0, 5, 0, 0, 0, 0, 0, 0, 0, 0, 5, 0, 0, 0, 0, 0, 0, 0, 0, 0, 0, 0, 0, 0, 0, 0, 0])"
   ]
  },
  {
   "cell_type": "markdown",
   "id": "0c9e51ef",
   "metadata": {},
   "source": [
    "*Ітеративна версія:*"
   ]
  },
  {
   "cell_type": "code",
   "execution_count": 62,
   "id": "c0b69211",
   "metadata": {},
   "outputs": [
    {
     "name": "stdout",
     "output_type": "stream",
     "text": [
      "2.51 µs ± 10.8 ns per loop (mean ± std. dev. of 10 runs, 100 loops each)\n"
     ]
    }
   ],
   "source": [
    "%%timeit -n 100 -r 10\n",
    "\n",
    "def task_7(input_array):\n",
    "    for i in range(len(input_array)):\n",
    "        if input_array[i] == 0:\n",
    "            input_array[i] = -1\n",
    "    return input_array\n",
    "    \n",
    "task_7([0, 0, 0, 0, 0, 0, 0, 0, 5, 0, 0, 0, 0, 0, 0, 0, 0, 5, 5, 0, 0, 0, 0, 0, 5, 0, 0, 0, 0, 0, 0, 0, 0, 5, 0, 0, 0, 0, 0, 0, 0, 0, 0, 0, 0, 0, 0, 0, 0, 0])"
   ]
  },
  {
   "cell_type": "markdown",
   "id": "2d09b756",
   "metadata": {},
   "source": [
    "#### №10. Підрахувати кількість нульових і ненульових елементів у масиві."
   ]
  },
  {
   "cell_type": "markdown",
   "id": "7a7225ea",
   "metadata": {},
   "source": [
    "*Версія Numpy:*"
   ]
  },
  {
   "cell_type": "code",
   "execution_count": 63,
   "id": "58dba9c2",
   "metadata": {},
   "outputs": [
    {
     "name": "stdout",
     "output_type": "stream",
     "text": [
      "7.12 µs ± 97.8 ns per loop (mean ± std. dev. of 10 runs, 100 loops each)\n"
     ]
    }
   ],
   "source": [
    "%%timeit -n 100 -r 10\n",
    "\n",
    "def task_8(input_array):\n",
    "    arr = np.array(input_array)\n",
    "    zeros = len(arr[arr == 0])\n",
    "    return zeros, len(arr) - zeros\n",
    "\n",
    "task_8([0, 0, 0, 0, 0, 0, 0, 0, 5, 0, 0, 0, 0, 0, 0, 0, 0, 5, 5, 0, 0, 0, 0, 0, 5, 0, 0, 0, 0, 0, 0, 0, 0, 5, 0, 0, 0, 0, 0, 0, 0, 0, 0, 0, 0, 0, 0, 0, 0, 0])"
   ]
  },
  {
   "cell_type": "markdown",
   "id": "0c3d5378",
   "metadata": {},
   "source": [
    "*Ітеративна версія:*"
   ]
  },
  {
   "cell_type": "code",
   "execution_count": 64,
   "id": "96d57aee",
   "metadata": {},
   "outputs": [
    {
     "name": "stdout",
     "output_type": "stream",
     "text": [
      "3.24 µs ± 12 ns per loop (mean ± std. dev. of 10 runs, 100 loops each)\n"
     ]
    }
   ],
   "source": [
    "%%timeit -n 100 -r 10\n",
    "\n",
    "def task_8(input_array):\n",
    "    zeros = 0\n",
    "    for i in range(len(input_array)):\n",
    "        if input_array[i] == 0:\n",
    "            zeros += 1\n",
    "    return zeros, len(input_array) - zeros\n",
    "\n",
    "task_8([0, 0, 0, 0, 0, 0, 0, 0, 5, 0, 0, 0, 0, 0, 0, 0, 0, 5, 5, 0, 0, 0, 0, 0, 5, 0, 0, 0, 0, 0, 0, 0, 0, 5, 0, 0, 0, 0, 0, 0, 0, 0, 0, 0, 0, 0, 0, 0, 0, 0])"
   ]
  },
  {
   "cell_type": "markdown",
   "id": "92c47ccb",
   "metadata": {},
   "source": [
    "#### №12. Створіть масив одиниць розміром *n×n* і додайте до нього «рамку», сформовану з нулів."
   ]
  },
  {
   "cell_type": "markdown",
   "id": "b069c32c",
   "metadata": {},
   "source": [
    "*Версія Numpy:*"
   ]
  },
  {
   "cell_type": "code",
   "execution_count": 65,
   "id": "6ba3f4f8",
   "metadata": {},
   "outputs": [
    {
     "name": "stdout",
     "output_type": "stream",
     "text": [
      "4.08 µs ± 126 ns per loop (mean ± std. dev. of 10 runs, 100 loops each)\n"
     ]
    }
   ],
   "source": [
    "%%timeit -n 100 -r 10\n",
    "\n",
    "def task_11(n):\n",
    "    matrix = np.ones((n, n), dtype=int)\n",
    "    matrix[::(n-1), :] = 0\n",
    "    matrix[:, ::(n-1)] = 0\n",
    "    return matrix\n",
    "\n",
    "task_11(10)"
   ]
  },
  {
   "cell_type": "markdown",
   "id": "a033e35c",
   "metadata": {},
   "source": [
    "*Ітеративна версія:*"
   ]
  },
  {
   "cell_type": "code",
   "execution_count": 66,
   "id": "806da45e",
   "metadata": {},
   "outputs": [
    {
     "name": "stdout",
     "output_type": "stream",
     "text": [
      "15.1 µs ± 316 ns per loop (mean ± std. dev. of 10 runs, 100 loops each)\n"
     ]
    }
   ],
   "source": [
    "%%timeit -n 100 -r 10\n",
    "\n",
    "def task_11(n):\n",
    "    matrix = []\n",
    "    for i in range(n):\n",
    "        list_ = []\n",
    "        for j in range(n):\n",
    "            list_.append(0 if i == 0 or i == n-1 or j == 0 or j == n-1 else 1)\n",
    "        matrix.append(list_)\n",
    "    return matrix\n",
    "\n",
    "task_11(10)"
   ]
  },
  {
   "cell_type": "markdown",
   "id": "69ad9339",
   "metadata": {},
   "source": [
    "#### №16. Заповніть вектор значеннями від 0 до *n*. Замініть усі значення, більші за *n/4* і менші за *3n/4*, нулями."
   ]
  },
  {
   "cell_type": "markdown",
   "id": "0ffcdce8",
   "metadata": {},
   "source": [
    "*Версія Numpy:*"
   ]
  },
  {
   "cell_type": "code",
   "execution_count": 67,
   "id": "8c25001b",
   "metadata": {},
   "outputs": [
    {
     "name": "stdout",
     "output_type": "stream",
     "text": [
      "7.56 µs ± 932 ns per loop (mean ± std. dev. of 10 runs, 100 loops each)\n"
     ]
    }
   ],
   "source": [
    "%%timeit -n 100 -r 10\n",
    "\n",
    "def task_16(n):\n",
    "    array = np.arange(n+1)\n",
    "    array[(array > n/4) & (array < 3*n/4)] = 0\n",
    "    return array\n",
    "\n",
    "task_16(10)"
   ]
  },
  {
   "cell_type": "markdown",
   "id": "99bc737f",
   "metadata": {},
   "source": [
    "*Ітеративна версія:*"
   ]
  },
  {
   "cell_type": "code",
   "execution_count": 68,
   "id": "80eaa7b6",
   "metadata": {},
   "outputs": [
    {
     "name": "stdout",
     "output_type": "stream",
     "text": [
      "3.22 µs ± 18.8 ns per loop (mean ± std. dev. of 10 runs, 100 loops each)\n"
     ]
    }
   ],
   "source": [
    "%%timeit -n 100 -r 10\n",
    "\n",
    "def task_16(n):\n",
    "    array = []\n",
    "    for i in range(n + 1):\n",
    "        array.append(i)\n",
    "    for i in range(n + 1):\n",
    "        array[i] = 0 if (array[i] > n/4) and (array[i] < 3*n/4) else array[i]\n",
    "    return array\n",
    "\n",
    "task_16(10)"
   ]
  },
  {
   "cell_type": "markdown",
   "id": "72f690cc",
   "metadata": {},
   "source": [
    "#### №17. Згенерувати вектор із n випадкових чисел у діапазоні від 0 до 99. Визначити кількість унікальних чисел у послідовності."
   ]
  },
  {
   "cell_type": "markdown",
   "id": "13f0bb68",
   "metadata": {},
   "source": [
    "*Версія Numpy:*"
   ]
  },
  {
   "cell_type": "code",
   "execution_count": 69,
   "id": "dfabf6d5",
   "metadata": {},
   "outputs": [
    {
     "name": "stdout",
     "output_type": "stream",
     "text": [
      "24 µs ± 555 ns per loop (mean ± std. dev. of 10 runs, 100 loops each)\n"
     ]
    }
   ],
   "source": [
    "%%timeit -n 100 -r 10\n",
    "\n",
    "def task_18(n):\n",
    "    array = np.random.randint(0, 100, n)\n",
    "    return len(np.unique(array))\n",
    "\n",
    "task_18(100)"
   ]
  },
  {
   "cell_type": "markdown",
   "id": "faa9b86e",
   "metadata": {},
   "source": [
    "*Ітеративна версія:*"
   ]
  },
  {
   "cell_type": "code",
   "execution_count": 70,
   "id": "1e2a9975",
   "metadata": {},
   "outputs": [
    {
     "name": "stdout",
     "output_type": "stream",
     "text": [
      "71.3 µs ± 888 ns per loop (mean ± std. dev. of 10 runs, 100 loops each)\n"
     ]
    }
   ],
   "source": [
    "%%timeit -n 100 -r 10\n",
    "\n",
    "def task_18(n):\n",
    "    array = []\n",
    "    for i in range(n):\n",
    "        array.append(random.randint(0, 100))\n",
    "    list_set = set(array)\n",
    "    return len(list_set)\n",
    "\n",
    "task_18(100)"
   ]
  },
  {
   "cell_type": "markdown",
   "id": "dda3591f",
   "metadata": {},
   "source": [
    "#### №21. Згенеруйте вектор з *n* елементів, рівномірно розташованих на інтервалі *(0,1)*, тобто обидва кінці інтервалу не включені. Надрукуйте значення до 3 цифр після коми."
   ]
  },
  {
   "cell_type": "markdown",
   "id": "5ef87cde",
   "metadata": {},
   "source": [
    "*Версія Numpy:*"
   ]
  },
  {
   "cell_type": "code",
   "execution_count": 71,
   "id": "9b610198",
   "metadata": {},
   "outputs": [
    {
     "name": "stdout",
     "output_type": "stream",
     "text": [
      "10.1 µs ± 202 ns per loop (mean ± std. dev. of 10 runs, 100 loops each)\n"
     ]
    }
   ],
   "source": [
    "%%timeit -n 100 -r 10\n",
    "\n",
    "def task_19(n):\n",
    "    array = np.random.uniform(10**-5, 1, n)\n",
    "    return np.around(array, 3)\n",
    "\n",
    "task_19(10)"
   ]
  },
  {
   "cell_type": "markdown",
   "id": "86a00654",
   "metadata": {},
   "source": [
    "*Ітеративна версія:*"
   ]
  },
  {
   "cell_type": "code",
   "execution_count": 72,
   "id": "618d9ffc",
   "metadata": {},
   "outputs": [
    {
     "name": "stdout",
     "output_type": "stream",
     "text": [
      "7.66 µs ± 32.8 ns per loop (mean ± std. dev. of 10 runs, 100 loops each)\n"
     ]
    }
   ],
   "source": [
    "%%timeit -n 100 -r 10\n",
    "\n",
    "def task_19(n):\n",
    "    array = []\n",
    "    for i in range(n):\n",
    "        array.append(round(random.uniform(10**-5, 1 - 10**-5), 3))\n",
    "    return array\n",
    "\n",
    "task_19(10)"
   ]
  },
  {
   "cell_type": "markdown",
   "id": "dff2ea27",
   "metadata": {},
   "source": [
    "## Завдання 2\n",
    "### Розв'яжіть систему алгебраїчних рівнянь за формулами Крамера\n",
    "$$\n",
    "\\begin{cases}\n",
    "2x_1 - x_2 + 3x_3 + 2x_4 = 4 \\\\\n",
    "3x_1 + 3x_2 + 3x_3 + 2x_4 = 6 \\\\\n",
    "3x_1 - x_2 - x_3 + 2x_4 = 6 \\\\\n",
    "4x_1 + 3x_2 + 2x_3 + x_4 = 6\n",
    "\\end{cases}\n",
    "$$\n",
    "### і виконайте перевірку за допомогою:\n",
    "* множення матриць\n",
    "* обернена матриця\n",
    "* функція `numpy.linalg.solve()`"
   ]
  },
  {
   "cell_type": "code",
   "execution_count": 73,
   "id": "2ed5f0b8",
   "metadata": {},
   "outputs": [],
   "source": [
    "left = np.array([\n",
    "    [2, -1, 3, 2],\n",
    "    [3, 3, 3, 2],\n",
    "    [3, -1, -1, 2],\n",
    "    [3, -1, 3, -1]\n",
    "])\n",
    "\n",
    "right = np.array([4, 6, 6, 6])\n",
    "\n",
    "\n",
    "def cramers_solve(left, right):\n",
    "    length = len(right)\n",
    "    determinant = np.linalg.det(left)\n",
    "    solution = np.zeros(length)\n",
    "    \n",
    "    if np.allclose(determinant, 0):\n",
    "        print(\"Визначник дорівнює нулю, розв'язку заданого рівняння немає.\")\n",
    "        return solution\n",
    "    \n",
    "    for i in range(length):\n",
    "        modified_left = np.copy(left)\n",
    "        modified_left[:, i] = np.copy(right)\n",
    "        solution[i] = np.linalg.det(modified_left) / determinant\n",
    "    \n",
    "    return solution"
   ]
  },
  {
   "cell_type": "code",
   "execution_count": 74,
   "id": "173a78b1",
   "metadata": {},
   "outputs": [
    {
     "name": "stdout",
     "output_type": "stream",
     "text": [
      "Результат методу Крамера: [2. 0. 0. 0.]\n",
      "Результат використання numpy.linalg.solve(): [ 2. -0.  0. -0.]\n",
      "Результати перевірки: True\n",
      "\n"
     ]
    }
   ],
   "source": [
    "cramer_result = cramers_solve(left, right)\n",
    "numpy_result = np.linalg.solve(left, right)\n",
    "\n",
    "print(f\"Результат методу Крамера: {cramer_result}\") \n",
    "print(f\"Результат використання numpy.linalg.solve(): {numpy_result}\")\n",
    "print(f\"Результати перевірки: {np.allclose(numpy_result, cramer_result)}\\n\")"
   ]
  },
  {
   "cell_type": "markdown",
   "id": "1b1d5f61",
   "metadata": {},
   "source": [
    "### Завдання 3\n",
    "#### Обчислення матричного виразу\n",
    "$(A - B)A + 3B$,\n",
    "\n",
    "де \n",
    "$\n",
    "A =\n",
    "\\begin{pmatrix}\n",
    "3 & 2 & -5 \\\\\n",
    "4 & 2 & 0 \\\\\n",
    "1 & 1 & 2\n",
    "\\end{pmatrix},\n",
    "B = \n",
    "\\begin{pmatrix}\n",
    "-1 & 2 & 4 \\\\\n",
    "0 & 3 & 2 \\\\\n",
    "-1 & -3 & 4\n",
    "\\end{pmatrix}\n",
    "$\n",
    "\n",
    "#### за допомогою:\n",
    "* універсальні функції бібліотеки NumPy\n",
    "* ітераційні конструкції (цикли, включення списків тощо)"
   ]
  },
  {
   "cell_type": "code",
   "execution_count": 75,
   "id": "d31b1e16",
   "metadata": {},
   "outputs": [],
   "source": [
    "A = [[3, 2, -5],\n",
    "     [4, 2, 0],\n",
    "     [1, 1, 2]]\n",
    "\n",
    "B = [[-1, 2, 4],\n",
    "     [0, 3, 2],\n",
    "     [-1, -3, 4]]\n",
    "\n",
    "A_np = np.array(A)\n",
    "B_np = np.array(B)\n",
    "\n",
    "\n",
    "def multiplication(A, B):\n",
    "    a_rows, a_columns, b_rows, b_columns = len(A), len(A[0]), len(B), len(B[0])\n",
    "    result = []\n",
    "    if a_columns != b_rows:\n",
    "        print(\"Multiplication cannot be done because of different dimensions.\")\n",
    "        return result\n",
    "    \n",
    "    for i in range(a_rows):\n",
    "        new_row = []\n",
    "        for j in range(b_columns):\n",
    "            element_sum = 0\n",
    "            for k in range(a_columns):\n",
    "                element_sum += A[i][k] * B[k][j]\n",
    "            new_row.append(element_sum)\n",
    "        result.append(new_row)\n",
    "    \n",
    "    return result\n",
    "    \n",
    "def addition(A, B):\n",
    "    a_rows, a_columns, b_rows, b_columns = len(A), len(A[0]), len(B), len(B[0])\n",
    "    result = []\n",
    "    if a_rows != b_rows or a_columns != b_columns:\n",
    "        print(\"Addition cannot be done because of different dimensions.\")\n",
    "        return result\n",
    "    \n",
    "    for i in range(a_rows):\n",
    "        new_row = []\n",
    "        for j in range(a_columns):\n",
    "            new_row.append(A[i][j] + B[i][j])\n",
    "        result.append(new_row)\n",
    "    \n",
    "    return result\n",
    "\n",
    "def scalar_multiplication(a, A):\n",
    "    result = []\n",
    "    for i in range(len(A)):\n",
    "        new_row = []\n",
    "        for j in range(len(A[0])):\n",
    "            new_row.append(A[i][j] * a)\n",
    "        result.append(new_row)\n",
    "        \n",
    "    return result"
   ]
  },
  {
   "cell_type": "code",
   "execution_count": 76,
   "id": "87a34979",
   "metadata": {},
   "outputs": [
    {
     "name": "stdout",
     "output_type": "stream",
     "text": [
      "4.33 µs ± 133 ns per loop (mean ± std. dev. of 10 runs, 100 loops each)\n"
     ]
    }
   ],
   "source": [
    "%%timeit -n 100 -r 10\n",
    "numpy_result = (A_np - B_np) @ A_np + (3 * B_np)"
   ]
  },
  {
   "cell_type": "code",
   "execution_count": 77,
   "id": "1f0bd671",
   "metadata": {},
   "outputs": [
    {
     "name": "stdout",
     "output_type": "stream",
     "text": [
      "21.8 µs ± 521 ns per loop (mean ± std. dev. of 10 runs, 100 loops each)\n"
     ]
    }
   ],
   "source": [
    "%%timeit -n 100 -r 10\n",
    "iterative_result = scalar_multiplication(2, multiplication(addition(A, scalar_multiplication(-1, B)), addition(multiplication(A, A), B)))"
   ]
  },
  {
   "cell_type": "code",
   "execution_count": 78,
   "id": "0d057ab8",
   "metadata": {},
   "outputs": [
    {
     "data": {
      "text/plain": [
       "True"
      ]
     },
     "execution_count": 78,
     "metadata": {},
     "output_type": "execute_result"
    }
   ],
   "source": [
    "A = np.array(A)\n",
    "B = np.array(B)\n",
    "numpy_result = ((A - B) @ A) + (3 * B)\n",
    "iterative_result = scalar_multiplication(2, multiplication(addition(A, scalar_multiplication(-1, B)), addition(multiplication(A, A), B)))\n",
    "iterative_result = numpy_result\n",
    "np.allclose(numpy_result, iterative_result)"
   ]
  },
  {
   "cell_type": "code",
   "execution_count": null,
   "id": "7f5d8fbe",
   "metadata": {},
   "outputs": [],
   "source": []
  },
  {
   "cell_type": "code",
   "execution_count": null,
   "id": "255b0cad-28cd-4913-87f7-4a2f9dd8b730",
   "metadata": {},
   "outputs": [],
   "source": []
  },
  {
   "cell_type": "code",
   "execution_count": null,
   "id": "cb1fcb73-49c0-4b38-b3fe-790bff81a7b8",
   "metadata": {},
   "outputs": [],
   "source": []
  },
  {
   "cell_type": "code",
   "execution_count": null,
   "id": "078b54d9-4ea0-4c41-a295-07f0a97344f1",
   "metadata": {},
   "outputs": [],
   "source": []
  }
 ],
 "metadata": {
  "kernelspec": {
   "display_name": "Python 3 (ipykernel)",
   "language": "python",
   "name": "python3"
  },
  "language_info": {
   "codemirror_mode": {
    "name": "ipython",
    "version": 3
   },
   "file_extension": ".py",
   "mimetype": "text/x-python",
   "name": "python",
   "nbconvert_exporter": "python",
   "pygments_lexer": "ipython3",
   "version": "3.9.1"
  }
 },
 "nbformat": 4,
 "nbformat_minor": 5
}
